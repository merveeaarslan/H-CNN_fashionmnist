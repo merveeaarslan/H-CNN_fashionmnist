{
  "nbformat": 4,
  "nbformat_minor": 0,
  "metadata": {
    "colab": {
      "name": "HCNN_2SEVİYE.ipynb",
      "provenance": [],
      "collapsed_sections": [],
      "mount_file_id": "1gWz7nEEwXiSmznboq_i5uN3WyTtcfCkg",
      "authorship_tag": "ABX9TyNDlNx5/Q57Jx2Nz+I3fakT",
      "include_colab_link": true
    },
    "kernelspec": {
      "name": "python3",
      "display_name": "Python 3"
    },
    "language_info": {
      "name": "python"
    },
    "accelerator": "GPU"
  },
  "cells": [
    {
      "cell_type": "markdown",
      "metadata": {
        "id": "view-in-github",
        "colab_type": "text"
      },
      "source": [
        "<a href=\"https://colab.research.google.com/github/merveeaarslan/H-CNN_fashionmnist/blob/main/HCNN_2SEV%C4%B0YE.ipynb\" target=\"_parent\"><img src=\"https://colab.research.google.com/assets/colab-badge.svg\" alt=\"Open In Colab\"/></a>"
      ]
    },
    {
      "cell_type": "code",
      "source": [
        "import tensorflow as tf\n",
        "tf.test.gpu_device_name()\n",
        "#import tensorflow.contrib.eager as tfe\n",
        "import tensorflow.keras as keras\n",
        "\n",
        "import numpy as np\n",
        "import matplotlib.pyplot as plt\n",
        "import pandas as pd\n",
        "from sklearn.model_selection import train_test_split\n",
        "from sklearn.metrics import classification_report\n",
        "from tensorflow.python import keras\n",
        "from tensorflow.python.keras.models import Sequential\n",
        "from tensorflow.python.keras.layers import Dense, Flatten, Conv2D, Dropout, MaxPooling2D\n",
        "from IPython.display import SVG\n",
        "from tensorflow.keras.layers import Dense, BatchNormalization\n",
        "from keras.utils.vis_utils import model_to_dot\n",
        "from keras.utils import np_utils\n",
        "\n",
        "from tensorflow.keras.utils import to_categorical\n",
        "import seaborn as sns\n",
        "import matplotlib.pyplot as plt\n",
        "\n",
        "\n",
        "%matplotlib inline\n",
        "\n",
        "!pip install ipython-autotime\n",
        "%load_ext autotime"
      ],
      "metadata": {
        "colab": {
          "base_uri": "https://localhost:8080/"
        },
        "id": "Cr5dULeewypM",
        "outputId": "cefead52-678d-4429-a704-56c70e6368cc"
      },
      "execution_count": null,
      "outputs": [
        {
          "output_type": "stream",
          "name": "stdout",
          "text": [
            "Collecting ipython-autotime\n",
            "  Downloading ipython_autotime-0.3.1-py2.py3-none-any.whl (6.8 kB)\n",
            "Requirement already satisfied: ipython in /usr/local/lib/python3.7/dist-packages (from ipython-autotime) (5.5.0)\n",
            "Requirement already satisfied: traitlets>=4.2 in /usr/local/lib/python3.7/dist-packages (from ipython->ipython-autotime) (5.1.1)\n",
            "Requirement already satisfied: pexpect in /usr/local/lib/python3.7/dist-packages (from ipython->ipython-autotime) (4.8.0)\n",
            "Requirement already satisfied: pickleshare in /usr/local/lib/python3.7/dist-packages (from ipython->ipython-autotime) (0.7.5)\n",
            "Requirement already satisfied: prompt-toolkit<2.0.0,>=1.0.4 in /usr/local/lib/python3.7/dist-packages (from ipython->ipython-autotime) (1.0.18)\n",
            "Requirement already satisfied: simplegeneric>0.8 in /usr/local/lib/python3.7/dist-packages (from ipython->ipython-autotime) (0.8.1)\n",
            "Requirement already satisfied: setuptools>=18.5 in /usr/local/lib/python3.7/dist-packages (from ipython->ipython-autotime) (57.4.0)\n",
            "Requirement already satisfied: decorator in /usr/local/lib/python3.7/dist-packages (from ipython->ipython-autotime) (4.4.2)\n",
            "Requirement already satisfied: pygments in /usr/local/lib/python3.7/dist-packages (from ipython->ipython-autotime) (2.6.1)\n",
            "Requirement already satisfied: six>=1.9.0 in /usr/local/lib/python3.7/dist-packages (from prompt-toolkit<2.0.0,>=1.0.4->ipython->ipython-autotime) (1.15.0)\n",
            "Requirement already satisfied: wcwidth in /usr/local/lib/python3.7/dist-packages (from prompt-toolkit<2.0.0,>=1.0.4->ipython->ipython-autotime) (0.2.5)\n",
            "Requirement already satisfied: ptyprocess>=0.5 in /usr/local/lib/python3.7/dist-packages (from pexpect->ipython->ipython-autotime) (0.7.0)\n",
            "Installing collected packages: ipython-autotime\n",
            "Successfully installed ipython-autotime-0.3.1\n",
            "time: 419 µs (started: 2022-01-11 09:56:23 +00:00)\n"
          ]
        }
      ]
    },
    {
      "cell_type": "code",
      "source": [
        "from keras.datasets import fashion_mnist\n",
        "\n",
        "(x_train, y_train), (x_test, y_test) = fashion_mnist.load_data()"
      ],
      "metadata": {
        "colab": {
          "base_uri": "https://localhost:8080/"
        },
        "id": "qeTpTVo3w5kp",
        "outputId": "67bbec05-4220-487b-a483-8425d3e35242"
      },
      "execution_count": null,
      "outputs": [
        {
          "output_type": "stream",
          "name": "stdout",
          "text": [
            "Downloading data from https://storage.googleapis.com/tensorflow/tf-keras-datasets/train-labels-idx1-ubyte.gz\n",
            "32768/29515 [=================================] - 0s 0us/step\n",
            "40960/29515 [=========================================] - 0s 0us/step\n",
            "Downloading data from https://storage.googleapis.com/tensorflow/tf-keras-datasets/train-images-idx3-ubyte.gz\n",
            "26427392/26421880 [==============================] - 0s 0us/step\n",
            "26435584/26421880 [==============================] - 0s 0us/step\n",
            "Downloading data from https://storage.googleapis.com/tensorflow/tf-keras-datasets/t10k-labels-idx1-ubyte.gz\n",
            "16384/5148 [===============================================================================================] - 0s 0us/step\n",
            "Downloading data from https://storage.googleapis.com/tensorflow/tf-keras-datasets/t10k-images-idx3-ubyte.gz\n",
            "4423680/4422102 [==============================] - 0s 0us/step\n",
            "4431872/4422102 [==============================] - 0s 0us/step\n",
            "time: 865 ms (started: 2022-01-11 09:56:35 +00:00)\n"
          ]
        }
      ]
    },
    {
      "cell_type": "code",
      "source": [
        "Label_map = {}\n",
        "for i, y in enumerate(y_train):\n",
        "    if y in Label_map:\n",
        "        Label_map[y].append(i)\n",
        "    else:\n",
        "        Label_map[y] = [i]\n",
        "# View 12 random images with specific label\n",
        "rows = 2\n",
        "columns = 5\n",
        "scale_factor = 15\n",
        "def ShowImages():\n",
        "    figsize_x = x_train[0].shape[1] * columns / scale_factor\n",
        "    figsize_y = x_train[0].shape[0] * rows / scale_factor\n",
        "    fig = plt.figure(figsize=(figsize_x, figsize_y))\n",
        "    for i in range(1, columns*rows +1):\n",
        "        np.random.shuffle(Label_map[i - 1])\n",
        "        fig.add_subplot(rows, columns, i)\n",
        "        img_index = Label_map[i - 1][0]\n",
        "        plt.imshow(x_train[img_index], cmap='gray')\n",
        "    plt.show()\n",
        "ShowImages()"
      ],
      "metadata": {
        "colab": {
          "base_uri": "https://localhost:8080/",
          "height": 269
        },
        "id": "0mSkjWsdw_Ou",
        "outputId": "ed61fb0e-3938-4a05-dcbc-18c9e2e00e87"
      },
      "execution_count": null,
      "outputs": [
        {
          "output_type": "display_data",
          "data": {
            "image/png": "[encoded data removed]",
            "text/plain": [
              "<Figure size 672x268.8 with 10 Axes>"
            ]
          },
          "metadata": {
            "needs_background": "light"
          }
        },
        {
          "output_type": "stream",
          "name": "stdout",
          "text": [
            "time: 1.31 s (started: 2022-01-11 09:56:41 +00:00)\n"
          ]
        }
      ]
    },
    {
      "cell_type": "code",
      "source": [
        "for i in range(0, 10):\n",
        "    print(len(Label_map.get(i)))"
      ],
      "metadata": {
        "colab": {
          "base_uri": "https://localhost:8080/"
        },
        "id": "T4IumtjexF_M",
        "outputId": "2ffc7adf-dd76-4c45-fb11-0ff0126032df"
      },
      "execution_count": null,
      "outputs": [
        {
          "output_type": "stream",
          "name": "stdout",
          "text": [
            "6000\n",
            "6000\n",
            "6000\n",
            "6000\n",
            "6000\n",
            "6000\n",
            "6000\n",
            "6000\n",
            "6000\n",
            "6000\n",
            "time: 3.38 ms (started: 2022-01-11 09:56:48 +00:00)\n"
          ]
        }
      ]
    },
    {
      "cell_type": "code",
      "source": [
        "def convertOneHot(labels, num_classes):\n",
        "    return np.array([np.eye(num_classes)[label] for label in labels])\n",
        "\n",
        "# Normalize images and add channel axis\n",
        "X_train = (x_train/255)[..., np.newaxis] \n",
        "X_test = (x_test/255)[..., np.newaxis] \n",
        "\n",
        "# Convert labels to one hot\n",
        "num_classes = max(y_train) + 1\n",
        "Classes = np.unique(y_train)\n",
        "Y_train = convertOneHot(y_train, num_classes)\n",
        "Y_test = convertOneHot(y_test, num_classes)\n",
        "\n",
        "print(X_train.shape)\n",
        "print(Y_train.shape)"
      ],
      "metadata": {
        "colab": {
          "base_uri": "https://localhost:8080/"
        },
        "id": "suYzQo2KxMX8",
        "outputId": "a527a25d-63a3-4d9f-a40e-f8374cf7d4d9"
      },
      "execution_count": null,
      "outputs": [
        {
          "output_type": "stream",
          "name": "stdout",
          "text": [
            "(60000, 28, 28, 1)\n",
            "(60000, 10)\n",
            "time: 581 ms (started: 2022-01-11 09:56:53 +00:00)\n"
          ]
        }
      ]
    },
    {
      "cell_type": "code",
      "source": [
        "from keras.models import Sequential\n",
        "from tensorflow.keras.layers import Conv2D\n",
        "from tensorflow.keras.optimizers import Adam \n",
        "from keras.callbacks import ModelCheckpoint\n",
        "def build_and_train(x_train, y_train,model, epochs=60):\n",
        "    x_t, x_v, y_t, y_v = train_test_split(x_train, y_train)\n",
        "    train_datagen = keras.preprocessing.image.ImageDataGenerator(horizontal_flip=True,)\n",
        "    if model == None:\n",
        "       model = keras.Sequential([\n",
        "                          #3.BLOK\n",
        "                          keras.layers.Conv2D(input_shape=x_train[0].shape,filters=256,kernel_size=(3,3),padding=\"same\", activation=\"relu\"),\n",
        "                          keras.layers.Conv2D(filters=256,kernel_size=(3,3),padding=\"same\", activation=\"relu\"),\n",
        "                          keras.layers.Conv2D(filters=256,kernel_size=(3,3),padding=\"same\", activation=\"relu\"),\n",
        "                          keras.layers.MaxPooling2D(pool_size=(2,2),strides=(2,2)),\n",
        "                          #4.BLOK\n",
        "                          keras.layers.Conv2D(filters=512, kernel_size=(3,3), padding=\"same\", activation=\"relu\"),\n",
        "                          keras.layers.Conv2D(filters=512, kernel_size=(3,3), padding=\"same\", activation=\"relu\"),\n",
        "                          keras.layers.Conv2D(filters=512, kernel_size=(3,3), padding=\"same\", activation=\"relu\"),\n",
        "                          keras.layers.MaxPooling2D(pool_size=(2,2),strides=(2,2)),\n",
        "                           #5.BLOK\n",
        "                          keras.layers.Conv2D(filters=512, kernel_size=(3,3), padding=\"same\", activation=\"relu\"),\n",
        "                          keras.layers.Conv2D(filters=512, kernel_size=(3,3), padding=\"same\", activation=\"relu\"),\n",
        "                          keras.layers.Conv2D(filters=512, kernel_size=(3,3), padding=\"same\", activation=\"relu\"),\n",
        "                          keras.layers.Flatten(),\n",
        "                          #model.add(Dense(units=4096,activation=\"relu\"))\n",
        "                          #model.add(Dense(units=4096,activation=\"relu\"))\n",
        "                          keras.layers.Dense(4096, activation='relu'),\n",
        "                          keras.layers.Dropout(0.5),\n",
        "                          keras.layers.Dense((y_train[0].shape[0]), activation='softmax'),\n",
        "                          ]);\n",
        "    Best_model = '/content/drive/MyDrive/uygulama/vgg16.h5'\n",
        "    model.compile(optimizer='Adam', loss='categorical_crossentropy', metrics=['accuracy'])\n",
        "    callbacks = [keras.callbacks.ModelCheckpoint(filepath=Best_model, monitor='val_accuracy', save_best_only=True)]\n",
        "    model.fit_generator(\n",
        "        train_datagen.flow(x_t, y_t, batch_size=128),\n",
        "        steps_per_epoch=len(x_t) / 32,\n",
        "        epochs=epochs,\n",
        "        validation_data=(x_v, y_v),\n",
        "        callbacks=callbacks,\n",
        "       # initial_epoch=10\n",
        "        )\n",
        "    best = keras.models.load_model(Best_model)\n",
        "    best.compile(optimizer='Adam', loss='categorical_crossentropy', metrics=['accuracy'])\n",
        "    return best"
      ],
      "metadata": {
        "colab": {
          "base_uri": "https://localhost:8080/"
        },
        "id": "lWaL_5lkxUDm",
        "outputId": "dc7b8e14-dfb0-4e1b-d759-515dffdf8847"
      },
      "execution_count": null,
      "outputs": [
        {
          "output_type": "stream",
          "name": "stdout",
          "text": [
            "time: 47.5 ms (started: 2022-01-11 10:42:46 +00:00)\n"
          ]
        }
      ]
    },
    {
      "cell_type": "code",
      "source": [
        "def buildClassDict(class_groups):\n",
        "    class_dict = {}\n",
        "    for i, group in enumerate(class_groups):\n",
        "        for val in group:\n",
        "            class_dict[val] = i\n",
        "    return class_dict\n",
        "\n",
        "def remapAndFilter(data, labels, class_dict, class_groups):\n",
        "    new_labels = []\n",
        "    new_data = []\n",
        "    for idx, label in enumerate(labels):\n",
        "        if label in class_dict:\n",
        "            new_label = class_dict[label]\n",
        "            new_labels.append(new_label)\n",
        "            new_data.append(data[idx])\n",
        "    return np.array(new_data), convertOneHot(new_labels, len(class_groups))"
      ],
      "metadata": {
        "colab": {
          "base_uri": "https://localhost:8080/"
        },
        "id": "fqT_WHTxxcSi",
        "outputId": "45405ccb-ba19-4beb-f5db-667b8392da5d"
      },
      "execution_count": null,
      "outputs": [
        {
          "output_type": "stream",
          "name": "stdout",
          "text": [
            "time: 8.53 ms (started: 2022-01-11 10:00:36 +00:00)\n"
          ]
        }
      ]
    },
    {
      "cell_type": "markdown",
      "source": [
        "3 SINIFA AYIRMA\n",
        "TRAİN:0.6041\n",
        "TEST:0.6000"
      ],
      "metadata": {
        "id": "YEQKIVzIyhg1"
      }
    },
    {
      "cell_type": "code",
      "source": [
        "# Root classifier\n",
        "Class_groups = [[0, 1, 2, 3, 4, 6], [5, 7, 9], [8]]\n",
        "Class_dict = buildClassDict(Class_groups)\n",
        "\n",
        "remapped_x_train, remapped_y_train = remapAndFilter(X_train, y_train, Class_dict, Class_groups)\n",
        "remapped_x_test, remapped_y_test = remapAndFilter(X_test, y_test, Class_dict, Class_groups)\n",
        "\n",
        "model = keras.Sequential([\n",
        "                          #1.BLOK\n",
        "    keras.layers.Conv2D(64, (3, 3), activation='relu', input_shape=remapped_x_train[0].shape),\n",
        "    keras.layers.Conv2D(64, (3, 3), activation='relu', input_shape=remapped_x_train[0].shape),\n",
        "    keras.layers.BatchNormalization(momentum=0.1),\n",
        "    keras.layers.MaxPool2D((2, 2)),\n",
        "                           #2.BLOK\n",
        "    keras.layers.Conv2D(128, (3, 3), activation='relu'),\n",
        "    keras.layers.Conv2D(128, (3, 3), activation='relu'),\n",
        "    keras.layers.MaxPool2D((2, 2)),\n",
        "\n",
        "    keras.layers.Flatten(),\n",
        "    keras.layers.Dense(4096, activation='relu'),\n",
        "    keras.layers.Dense(remapped_y_train[0].shape[0]),\n",
        "]);\n",
        "\n",
        "root = build_and_train(remapped_x_train, remapped_y_train, model)\n",
        "\n"
      ],
      "metadata": {
        "colab": {
          "base_uri": "https://localhost:8080/"
        },
        "id": "ePh5hz2zG9Zc",
        "outputId": "20a4b6bf-834d-492a-bd79-f22590d65510"
      },
      "execution_count": null,
      "outputs": [
        {
          "output_type": "stream",
          "name": "stderr",
          "text": [
            "/usr/local/lib/python3.7/dist-packages/tensorflow/python/keras/engine/training.py:1963: UserWarning: `Model.fit_generator` is deprecated and will be removed in a future version. Please use `Model.fit`, which supports generators.\n",
            "  warnings.warn('`Model.fit_generator` is deprecated and '\n"
          ]
        },
        {
          "output_type": "stream",
          "name": "stdout",
          "text": [
            "Epoch 1/60\n",
            " 351/1406 [======>.......................] - ETA: 34s - loss: 6.4844 - accuracy: 0.5978WARNING:tensorflow:Your input ran out of data; interrupting training. Make sure that your dataset or generator can generate at least `steps_per_epoch * epochs` batches (in this case, 84375.0 batches). You may need to use the repeat() function when building your dataset.\n",
            "1406/1406 [==============================] - 15s 10ms/step - loss: 6.4842 - accuracy: 0.5978 - val_loss: 6.3806 - val_accuracy: 0.6041\n",
            "time: 22.5 s (started: 2022-01-11 10:27:31 +00:00)\n"
          ]
        }
      ]
    },
    {
      "cell_type": "code",
      "source": [
        "# Evaluate model\n",
        "results = root.evaluate(remapped_x_test, remapped_y_test )\n",
        "print(root.metrics_names)\n",
        "print(results)"
      ],
      "metadata": {
        "colab": {
          "base_uri": "https://localhost:8080/"
        },
        "id": "B6hSPKM_139d",
        "outputId": "acbf0394-cf7e-46c2-b428-094f5a541f65"
      },
      "execution_count": null,
      "outputs": [
        {
          "output_type": "stream",
          "name": "stdout",
          "text": [
            "313/313 [==============================] - 3s 7ms/step - loss: 6.4472 - accuracy: 0.6000\n",
            "['loss', 'accuracy']\n",
            "[6.44723653793335, 0.6000000238418579]\n",
            "time: 2.6 s (started: 2022-01-11 10:28:12 +00:00)\n"
          ]
        }
      ]
    },
    {
      "cell_type": "markdown",
      "source": [
        "Cloth Classifier\n",
        "Acc: 0.6894"
      ],
      "metadata": {
        "id": "hqi_cPl9y8-q"
      }
    },
    {
      "cell_type": "code",
      "source": [
        "# Cloth classifier\n",
        "Cloth_groups = [[0],[1], [2], [3], [4], [6]]\n",
        "Cloth_dict = buildClassDict(Cloth_groups)\n",
        "\n",
        "remapped_x_train, remapped_y_train = remapAndFilter(X_train, y_train, Cloth_dict, Cloth_groups)\n",
        "remapped_x_test, remapped_y_test = remapAndFilter(X_test, y_test, Cloth_dict, Cloth_groups)\n",
        "\n",
        "\n",
        "cloth = build_and_train(remapped_x_train, remapped_y_train,model=None)\n",
        "\n",
        "# Evaluate model\n",
        "results = cloth.evaluate(remapped_x_test, remapped_y_test)\n",
        "print(cloth.metrics_names)\n",
        "print(results)"
      ],
      "metadata": {
        "colab": {
          "base_uri": "https://localhost:8080/"
        },
        "id": "3nlcO5VLX4fs",
        "outputId": "5c525c5f-788c-4cc3-c870-38ed1e6bb501"
      },
      "execution_count": null,
      "outputs": [
        {
          "output_type": "stream",
          "name": "stderr",
          "text": [
            "/usr/local/lib/python3.7/dist-packages/tensorflow/python/keras/engine/training.py:1963: UserWarning: `Model.fit_generator` is deprecated and will be removed in a future version. Please use `Model.fit`, which supports generators.\n",
            "  warnings.warn('`Model.fit_generator` is deprecated and '\n"
          ]
        },
        {
          "output_type": "stream",
          "name": "stdout",
          "text": [
            "Epoch 1/60\n",
            "211/843 [======>.......................] - ETA: 4:28 - loss: 1.1543 - accuracy: 0.5107WARNING:tensorflow:Your input ran out of data; interrupting training. Make sure that your dataset or generator can generate at least `steps_per_epoch * epochs` batches (in this case, 50625.0 batches). You may need to use the repeat() function when building your dataset.\n",
            "843/843 [==============================] - 104s 121ms/step - loss: 1.1543 - accuracy: 0.5107 - val_loss: 0.7612 - val_accuracy: 0.7051\n",
            "188/188 [==============================] - 10s 49ms/step - loss: 0.7946 - accuracy: 0.6895\n",
            "['loss', 'accuracy']\n",
            "[0.7946262359619141, 0.6894999742507935]\n",
            "time: 2min 6s (started: 2022-01-11 10:43:40 +00:00)\n"
          ]
        }
      ]
    },
    {
      "cell_type": "markdown",
      "source": [
        "Shoes Classifier\n",
        "Acc:0.85"
      ],
      "metadata": {
        "id": "-LEUimYwzVbi"
      }
    },
    {
      "cell_type": "code",
      "source": [
        "# Shoes classifier\n",
        "Shoes_groups = [[5], [7], [9]]\n",
        "Shoes_dict = buildClassDict(Shoes_groups)\n",
        "\n",
        "remapped_x_train, remapped_y_train = remapAndFilter(X_train, y_train, Shoes_dict, Shoes_groups)\n",
        "remapped_x_test, remapped_y_test = remapAndFilter(X_test, y_test, Shoes_dict, Shoes_groups)\n",
        "\n",
        "shoes = build_and_train(remapped_x_train, remapped_y_train, model=None)\n",
        "\n",
        "# Evaluate model\n",
        "results = shoes.evaluate(remapped_x_test, remapped_y_test)\n",
        "print(shoes.metrics_names)\n",
        "print(results)"
      ],
      "metadata": {
        "colab": {
          "base_uri": "https://localhost:8080/"
        },
        "id": "-vtbvCeyYx17",
        "outputId": "949ce992-0a49-4491-f638-38aa348636e2"
      },
      "execution_count": null,
      "outputs": [
        {
          "output_type": "stream",
          "name": "stderr",
          "text": [
            "/usr/local/lib/python3.7/dist-packages/tensorflow/python/keras/engine/training.py:1963: UserWarning: `Model.fit_generator` is deprecated and will be removed in a future version. Please use `Model.fit`, which supports generators.\n",
            "  warnings.warn('`Model.fit_generator` is deprecated and '\n"
          ]
        },
        {
          "output_type": "stream",
          "name": "stdout",
          "text": [
            "Epoch 1/60\n",
            "106/421 [======>.......................] - ETA: 2:22 - loss: 0.8282 - accuracy: 0.6017WARNING:tensorflow:Your input ran out of data; interrupting training. Make sure that your dataset or generator can generate at least `steps_per_epoch * epochs` batches (in this case, 25312.5 batches). You may need to use the repeat() function when building your dataset.\n",
            "421/421 [==============================] - 56s 130ms/step - loss: 0.8282 - accuracy: 0.6017 - val_loss: 0.4330 - val_accuracy: 0.8409\n",
            "94/94 [==============================] - 6s 60ms/step - loss: 0.4130 - accuracy: 0.8513\n",
            "['loss', 'accuracy']\n",
            "[0.41300541162490845, 0.8513333201408386]\n",
            "time: 1min 33s (started: 2022-01-11 10:46:15 +00:00)\n"
          ]
        }
      ]
    },
    {
      "cell_type": "code",
      "source": [
        ""
      ],
      "metadata": {
        "id": "NegPVJC-wVcK"
      },
      "execution_count": null,
      "outputs": []
    },
    {
      "cell_type": "code",
      "source": [
        "from sklearn.metrics import accuracy_score\n",
        "from scipy.special import softmax\n",
        "\n",
        "def predict(x):\n",
        "    y_root = root.predict(x)\n",
        "    y_shoes = shoes.predict(x)\n",
        "    y_cloth = cloth.predict(x)\n",
        "    y_pred = []\n",
        "    for (y_r, y_s, y_c) in zip(y_root, y_shoes, y_cloth):\n",
        "        y_r = softmax(y_r)\n",
        "        y_c = softmax(y_c)\n",
        "        y_s = softmax(y_s)\n",
        "        \n",
        "        y = np.zeros(num_classes)\n",
        "        y[9] = y_r[Class_dict[9]]\n",
        "        for i in Class_groups[0]:\n",
        "            y[i] = y_r[0] * y_c[Cloth_dict[i]]\n",
        "            \n",
        "        for i in Class_groups[1]:\n",
        "            y[i] = y_r[1] * y_s[Shoes_dict[i]]\n",
        "        y_pred.append(y)\n",
        "    return y_pred\n",
        "y_pred = predict(X_test)\n",
        "y_labels = [np.argmax(pred) for pred in y_pred]\n",
        "accuracy_score(y_test, y_labels)\n",
        "print(accuracy_score(y_test, y_labels))"
      ],
      "metadata": {
        "colab": {
          "base_uri": "https://localhost:8080/"
        },
        "id": "MnRUYDoWGvRW",
        "outputId": "e6aad963-ac16-4ad1-a845-6fbbecb737e0"
      },
      "execution_count": null,
      "outputs": [
        {
          "output_type": "stream",
          "name": "stdout",
          "text": [
            "0.4137\n",
            "time: 31 s (started: 2022-01-11 10:55:33 +00:00)\n"
          ]
        }
      ]
    },
    {
      "cell_type": "markdown",
      "source": [
        ""
      ],
      "metadata": {
        "id": "W1wlgStLX1tm"
      }
    }
  ]
}